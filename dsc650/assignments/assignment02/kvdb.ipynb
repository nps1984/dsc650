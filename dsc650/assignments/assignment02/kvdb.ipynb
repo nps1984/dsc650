{
 "cells": [
  {
   "cell_type": "code",
   "execution_count": 5,
   "metadata": {},
   "outputs": [],
   "source": [
    "import json\n",
    "from pathlib import Path\n",
    "import os\n",
    "\n",
    "import pandas as pd\n",
    "#import s3fs\n",
    "\n",
    "\n",
    "#def read_cluster_csv(file_path, endpoint_url='https://storage.budsc.midwest-datascience.com'):\n",
    "#    s3 = s3fs.S3FileSystem(\n",
    "#        anon=True,\n",
    "#        client_kwargs={\n",
    "#            'endpoint_url': endpoint_url\n",
    "#        }\n",
    "#    )\n",
    "#    return pd.read_csv(s3.open(file_path, mode='rb'))\n",
    "\n",
    "def read_csv(file_name):\n",
    "    return pd.read_csv(data_dir.joinpath(file_name))\n",
    "\n",
    "current_dir = Path(os.getcwd()).absolute()\n",
    "root_dir = current_dir.parents[2]\n",
    "data_dir = root_dir.joinpath('data/external/tidynomicon')\n",
    "results_dir = current_dir.joinpath('results')\n",
    "kv_data_dir = results_dir.joinpath('kvdb')\n",
    "kv_data_dir.mkdir(parents=True, exist_ok=True)\n",
    "\n",
    "people_json = kv_data_dir.joinpath('people.json')\n",
    "visited_json = kv_data_dir.joinpath('visited.json')\n",
    "sites_json = kv_data_dir.joinpath('sites.json')\n",
    "measurements_json = kv_data_dir.joinpath('measurements.json')"
   ]
  },
  {
   "cell_type": "code",
   "execution_count": 40,
   "metadata": {},
   "outputs": [],
   "source": [
    "class KVDB(object):\n",
    "    def __init__(self, db_path):\n",
    "        self._db_path = Path(db_path)\n",
    "        self._db = {}\n",
    "        self._load_db()\n",
    "\n",
    "    def _load_db(self):\n",
    "        if self._db_path.exists():\n",
    "            with open(self._db_path) as f:\n",
    "                self._db = json.load(f)\n",
    "\n",
    "    def get_value(self, key):\n",
    "        return self._db.get(key)\n",
    "\n",
    "    def set_value(self, key, value):\n",
    "        self._db[key] = value\n",
    "\n",
    "    def save(self):\n",
    "        with open(self._db_path, 'w') as f:\n",
    "            json.dump(self._db, f, indent=2)"
   ]
  },
  {
   "cell_type": "code",
   "execution_count": 44,
   "metadata": {},
   "outputs": [],
   "source": [
    "def create_sites_kvdb():\n",
    "    db = KVDB(sites_json)\n",
    "    #df = read_cluster_csv('data/external/tidynomicon/site.csv')\n",
    "    df = read_csv('site.csv')\n",
    "    for site_id, group_df in df.groupby('site_id'):\n",
    "        db.set_value(site_id, group_df.to_dict(orient='records')[0])\n",
    "    db.save()\n",
    "\n",
    "\n",
    "def create_people_kvdb():\n",
    "    db = KVDB(people_json)\n",
    "    df = read_csv('person.csv')\n",
    "    for person_id, group_df in df.groupby('person_id'):\n",
    "        db.set_value(person_id, group_df.to_dict(orient='records')[0])\n",
    "    db.save()\n",
    "\n",
    "\n",
    "def create_visits_kvdb():\n",
    "    db = KVDB(visited_json)\n",
    "    df = read_csv('visited.csv')\n",
    "    for visits_comp, group_df in df.groupby(['visit_id','site_id']):\n",
    "        visits_pk = str(visits_comp[0]) + '-' + visits_comp[1]\n",
    "        db.set_value(visits_pk, group_df.to_dict(orient='records')[0])\n",
    "    db.save()\n",
    "\n",
    "\n",
    "def create_measurements_kvdb():\n",
    "    db = KVDB(measurements_json)\n",
    "    df = read_csv('measurements.csv')\n",
    "    for measurements_comp, group_df in df.groupby(['visit_id','person_id','quantity']):\n",
    "        measurements_pk = str(measurements_comp[0]) + '-' + measurements_comp[1] + '-' + measurements_comp[2]\n",
    "        db.set_value(measurements_pk, group_df.to_dict(orient='records')[0])\n",
    "    db.save()"
   ]
  },
  {
   "cell_type": "code",
   "execution_count": 45,
   "metadata": {},
   "outputs": [],
   "source": [
    "create_sites_kvdb()\n",
    "create_people_kvdb()\n",
    "create_visits_kvdb()\n",
    "create_measurements_kvdb()"
   ]
  },
  {
   "cell_type": "code",
   "execution_count": null,
   "metadata": {},
   "outputs": [],
   "source": []
  }
 ],
 "metadata": {
  "kernelspec": {
   "display_name": "Python 3",
   "language": "python",
   "name": "python3"
  },
  "language_info": {
   "codemirror_mode": {
    "name": "ipython",
    "version": 3
   },
   "file_extension": ".py",
   "mimetype": "text/x-python",
   "name": "python",
   "nbconvert_exporter": "python",
   "pygments_lexer": "ipython3",
   "version": "3.6.10"
  },
  "varInspector": {
   "cols": {
    "lenName": 16,
    "lenType": 16,
    "lenVar": 40
   },
   "kernels_config": {
    "python": {
     "delete_cmd_postfix": "",
     "delete_cmd_prefix": "del ",
     "library": "var_list.py",
     "varRefreshCmd": "print(var_dic_list())"
    },
    "r": {
     "delete_cmd_postfix": ") ",
     "delete_cmd_prefix": "rm(",
     "library": "var_list.r",
     "varRefreshCmd": "cat(var_dic_list()) "
    }
   },
   "types_to_exclude": [
    "module",
    "function",
    "builtin_function_or_method",
    "instance",
    "_Feature"
   ],
   "window_display": false
  }
 },
 "nbformat": 4,
 "nbformat_minor": 4
}
