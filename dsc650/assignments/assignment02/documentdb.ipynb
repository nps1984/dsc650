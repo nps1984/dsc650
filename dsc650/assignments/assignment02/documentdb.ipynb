{
 "cells": [
  {
   "cell_type": "code",
   "execution_count": 10,
   "metadata": {},
   "outputs": [],
   "source": [
    "from pathlib import Path\n",
    "import json\n",
    "import os\n",
    "\n",
    "from tinydb import TinyDB\n",
    "\n",
    "current_dir = Path(os.getcwd()).absolute()\n",
    "results_dir = current_dir.joinpath('results')\n",
    "kv_data_dir = results_dir.joinpath('kvdb')\n",
    "kv_data_dir.mkdir(parents=True, exist_ok=True)\n",
    "\n",
    "\n",
    "class DocumentDB(object):\n",
    "    def __init__(self, db_path):\n",
    "        ## You can use the code from the previous exmaple if you would like\n",
    "        people_json = kv_data_dir.joinpath('people.json')\n",
    "        visited_json = kv_data_dir.joinpath('visited.json')\n",
    "        sites_json = kv_data_dir.joinpath('sites.json')\n",
    "        measurements_json = kv_data_dir.joinpath('measurements.json')\n",
    "\n",
    "        self._db_path = Path(db_path)\n",
    "        self._db = None\n",
    "        ## TODO: Implement code\n",
    "        \n",
    "        # load json files\n",
    "        with open(people_json) as p:\n",
    "          people = json.load(p)\n",
    "        \n",
    "        with open(measurements_json) as m:\n",
    "          measurements = json.load(m)\n",
    "        \n",
    "        with open(sites_json) as s:\n",
    "          sites = json.load(s)\n",
    "        \n",
    "        with open(visited_json) as v:\n",
    "          visits = json.load(v)\n",
    "        \n",
    "        # loop through people\n",
    "        for person in people:\n",
    "            # init a person \n",
    "            person_visits = []\n",
    "            visit_site_id = None\n",
    "            \n",
    "            for visit in visits:\n",
    "                visit_measurements = []\n",
    "                \n",
    "                # loop through measurements to see if measurement belongs to this person\n",
    "                for measurement in measurements:\n",
    "                    if (measurements[measurement][\"person_id\"] == people[person][\"person_id\"] \n",
    "                        and visits[visit][\"visit_id\"] == measurements[measurement][\"visit_id\"]):\n",
    "                        \n",
    "                            # This could get overwritten w/ each loop, but thats ok because\n",
    "                            # each measurement for a visit should be at the same site\n",
    "                            visit_site_id = visits[visit][\"site_id\"]\n",
    "                            visit_measurements.append(measurements[measurement])\n",
    "                    \n",
    "                # add site to visit object, using site id from measurement loop\n",
    "                if visit_site_id is not None:\n",
    "                    visits[visit][\"site\"] = sites[visit_site_id]\n",
    "                \n",
    "                # add measurements to visit object\n",
    "                if len(visit_measurements) > 0:\n",
    "                    visits[visit][\"measurements\"] = visit_measurements\n",
    "                \n",
    "                    # add visit object to person visits\n",
    "                    person_visits.append(visits[visit])\n",
    "            \n",
    "            # Add visit object to person object\n",
    "            if len(person_visits) > 0:\n",
    "                people[person][\"visits\"] = person_visits\n",
    "            \n",
    "            # load the db\n",
    "            self._load_db(people[person])\n",
    "\n",
    "        # close the db\n",
    "        self._db.close()\n",
    "        \n",
    "    def _load_db(self, doc):\n",
    "        self._db = TinyDB(self._db_path, indent=4, )\n",
    "        ## TODO: Implement code\n",
    "        # insert the document\n",
    "        self._db.insert(doc)"
   ]
  },
  {
   "cell_type": "code",
   "execution_count": 11,
   "metadata": {},
   "outputs": [],
   "source": [
    "db_path = results_dir.joinpath('patient-info.json')\n",
    "if db_path.exists():\n",
    "    os.remove(db_path)\n",
    "\n",
    "db = DocumentDB(db_path)"
   ]
  },
  {
   "cell_type": "code",
   "execution_count": null,
   "metadata": {},
   "outputs": [],
   "source": []
  }
 ],
 "metadata": {
  "kernelspec": {
   "display_name": "Python 3",
   "language": "python",
   "name": "python3"
  },
  "language_info": {
   "codemirror_mode": {
    "name": "ipython",
    "version": 3
   },
   "file_extension": ".py",
   "mimetype": "text/x-python",
   "name": "python",
   "nbconvert_exporter": "python",
   "pygments_lexer": "ipython3",
   "version": "3.6.10"
  },
  "varInspector": {
   "cols": {
    "lenName": 16,
    "lenType": 16,
    "lenVar": 40
   },
   "kernels_config": {
    "python": {
     "delete_cmd_postfix": "",
     "delete_cmd_prefix": "del ",
     "library": "var_list.py",
     "varRefreshCmd": "print(var_dic_list())"
    },
    "r": {
     "delete_cmd_postfix": ") ",
     "delete_cmd_prefix": "rm(",
     "library": "var_list.r",
     "varRefreshCmd": "cat(var_dic_list()) "
    }
   },
   "types_to_exclude": [
    "module",
    "function",
    "builtin_function_or_method",
    "instance",
    "_Feature"
   ],
   "window_display": false
  }
 },
 "nbformat": 4,
 "nbformat_minor": 4
}
